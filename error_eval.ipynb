{
 "cells": [
  {
   "cell_type": "code",
   "execution_count": null,
   "metadata": {},
   "outputs": [],
   "source": [
    "from transformers import T5ForConditionalGeneration, T5Tokenizer, BertTokenizer, BertModel\n",
    "from datasets import Dataset, load_from_disk\n",
    "import evaluate\n",
    "import torch\n",
    "\n",
    "import numpy as np\n",
    "import pandas as pd\n",
    "import re\n",
    "\n",
    "import matplotlib.pyplot as plt\n",
    "import json\n",
    "\n",
    "from tqdm import tqdm\n",
    "from rapidfuzz.distance import Levenshtein, Opcodes"
   ]
  },
  {
   "cell_type": "code",
   "execution_count": null,
   "metadata": {},
   "outputs": [],
   "source": [
    "T5_MODEL_NAME = \"/home/sulcm/models/t5/t5-spellchecker-cs-v4\""
   ]
  },
  {
   "cell_type": "code",
   "execution_count": null,
   "metadata": {},
   "outputs": [],
   "source": [
    "device = torch.device(\"cuda\" if torch.cuda.is_available() else \"cpu\")"
   ]
  },
  {
   "cell_type": "code",
   "execution_count": null,
   "metadata": {},
   "outputs": [],
   "source": [
    "dataset = load_from_disk(\"/home/sulcm/datasets/t5/asr-correction-cs-v23/test\")"
   ]
  },
  {
   "cell_type": "code",
   "execution_count": null,
   "metadata": {},
   "outputs": [],
   "source": [
    "dataset"
   ]
  },
  {
   "cell_type": "markdown",
   "metadata": {},
   "source": [
    "# Create and compute eval data"
   ]
  },
  {
   "cell_type": "code",
   "execution_count": null,
   "metadata": {},
   "outputs": [],
   "source": [
    "wer_metric = evaluate.load(\"wer\")"
   ]
  },
  {
   "cell_type": "code",
   "execution_count": null,
   "metadata": {},
   "outputs": [],
   "source": [
    "prefix = \"spell check: \"\n",
    "t5_tokenizer = T5Tokenizer.from_pretrained(T5_MODEL_NAME)\n",
    "t5_model = T5ForConditionalGeneration.from_pretrained(T5_MODEL_NAME).to(device)"
   ]
  },
  {
   "cell_type": "code",
   "execution_count": null,
   "metadata": {},
   "outputs": [],
   "source": [
    "t5_correction_and_results = {\n",
    "    \"t5_correction\": [],\n",
    "    \"w2v2_vs_target_wer\": [],\n",
    "    \"t5_vs_target_wer\": [],\n",
    "    \"w2v2_vs_t5_wer\": []\n",
    "}\n",
    "\n",
    "for ds_row in tqdm(dataset):\n",
    "    # asr_transcription, target_output\n",
    "    inputs = t5_tokenizer(prefix + ds_row[\"asr_transcription\"], return_tensors=\"pt\").to(device)\n",
    "    output_sequences = t5_model.generate(**inputs, max_new_tokens=64, num_beams=4, do_sample=True)\n",
    "    corrected_input = t5_tokenizer.batch_decode(output_sequences, skip_special_tokens=True)\n",
    "\n",
    "    t5_correction_and_results[\"w2v2_vs_target_wer\"].append(wer_metric.compute(predictions=(ds_row[\"asr_transcription\"],), references=(ds_row[\"target_output\"],)))\n",
    "    t5_correction_and_results[\"t5_vs_target_wer\"].append(wer_metric.compute(predictions=corrected_input, references=(ds_row[\"target_output\"],)))\n",
    "    t5_correction_and_results[\"w2v2_vs_t5_wer\"].append(wer_metric.compute(predictions=(ds_row[\"asr_transcription\"],), references=corrected_input))\n",
    "    t5_correction_and_results[\"t5_correction\"].extend(corrected_input)"
   ]
  },
  {
   "cell_type": "code",
   "execution_count": null,
   "metadata": {},
   "outputs": [],
   "source": [
    "# with open(\"./data/error_eval_ds_v23_test_w_t5_v4.json\", \"w\") as f:\n",
    "#     json.dump(t5_correction_and_results, f)"
   ]
  },
  {
   "cell_type": "markdown",
   "metadata": {},
   "source": [
    "# Evaluation of results\n",
    "---\n",
    "![\"error_classification\"](./error_classification.svg)"
   ]
  },
  {
   "cell_type": "code",
   "execution_count": null,
   "metadata": {},
   "outputs": [],
   "source": [
    "class ST6ErrorAnalysis():\n",
    "    def __init__(self, classes_def_path: str=\"\") -> None:\n",
    "        if classes_def_path:\n",
    "            with open(classes_def_path, \"r\") as f:\n",
    "                word_classes = json.load(f)\n",
    "        else:\n",
    "            word_classes = {}\n",
    "        \n",
    "        self.id2label = list(word_classes.keys())\n",
    "        self.id2label.append(\"other\")\n",
    "        self.label2id = {label: id for id, label in enumerate(self.id2label)}\n",
    "        self.word_classes_examples = list(word_classes.values())\n",
    "\n",
    "        pass\n",
    "\n",
    "    def get_error_class(lev_ops: dict):\n",
    "        for action, src, reference in zip(lev_ops[\"action\"], lev_ops[\"src\"], lev_ops[\"reference\"]):\n",
    "            print(\"hello\")"
   ]
  },
  {
   "cell_type": "code",
   "execution_count": null,
   "metadata": {},
   "outputs": [],
   "source": [
    "with open(\"./data/error_eval_ds_v23_test_w_t5_v19.json\", \"r\") as f:\n",
    "    t5_correction_and_results = json.load(f)"
   ]
  },
  {
   "cell_type": "code",
   "execution_count": null,
   "metadata": {},
   "outputs": [],
   "source": [
    "def compare_outputs(idx: int) -> None:\n",
    "    print(\n",
    "        f\"Wav2Vec2.0 Transcription (WER = {t5_correction_and_results['w2v2_vs_target_wer'][idx]:.4f}):    \" + dataset[idx]['asr_transcription'],\n",
    "        f\"T5 Correction (WER = {t5_correction_and_results['t5_vs_target_wer'][idx]:.4f}):               \" + t5_correction_and_results['t5_correction'][idx],\n",
    "        \"Target output:                              \" + dataset[idx]['target_output'],\n",
    "        sep=\"\\n\"\n",
    "    )"
   ]
  },
  {
   "cell_type": "code",
   "execution_count": null,
   "metadata": {},
   "outputs": [],
   "source": [
    "def levenshtein_ops(src: str, reference: str) -> dict:\n",
    "    lev_ops = Levenshtein.editops(src, reference)\n",
    "    lev_ops_dict = {\n",
    "        \"action\": [],\n",
    "        \"src\": [],\n",
    "        \"reference\": [],\n",
    "    }\n",
    "    for ops in Opcodes.from_editops(lev_ops):\n",
    "        if ops.tag != \"equal\":\n",
    "            lev_ops_dict[\"action\"].append(ops.tag)\n",
    "            lev_ops_dict[\"src\"].append((src[ops.src_start:ops.src_end],\n",
    "                                        (src_start[-1] if (src_start := src[:ops.src_start].split(\" \")) else \"\") + \n",
    "                                        src[ops.src_start:ops.src_end] + \n",
    "                                        (src_end[0] if (src_end := src[ops.src_end:].split(\" \")) else \"\")))\n",
    "            lev_ops_dict[\"reference\"].append((reference[ops.dest_start:ops.dest_end], \n",
    "                                         (dest_start[-1] if (dest_start := reference[:ops.dest_start].split(\" \")) else \"\") + \n",
    "                                         reference[ops.dest_start:ops.dest_end] + \n",
    "                                         (dest_end[0] if (dest_end := reference[ops.dest_end:].split(\" \")) else \"\")))\n",
    "    return lev_ops_dict"
   ]
  },
  {
   "cell_type": "markdown",
   "metadata": {},
   "source": [
    "## T5 mistakes on ***correct*** W2V2 transcription"
   ]
  },
  {
   "cell_type": "code",
   "execution_count": null,
   "metadata": {},
   "outputs": [],
   "source": [
    "correct_w2v2_transcription = np.argwhere(np.transpose(t5_correction_and_results[\"w2v2_vs_target_wer\"]) == 0.0).flatten()\n",
    "incorrect_t5_correction = np.argwhere(np.transpose(t5_correction_and_results[\"t5_vs_target_wer\"]) > 0.0).flatten()\n",
    "correct_asr_transcription_incorect_t5_correction = set(correct_w2v2_transcription).intersection(set(incorrect_t5_correction))\n",
    "len(correct_asr_transcription_incorect_t5_correction)"
   ]
  },
  {
   "cell_type": "code",
   "execution_count": null,
   "metadata": {},
   "outputs": [],
   "source": [
    "correct_asr_transcription_incorect_t5_correction"
   ]
  },
  {
   "cell_type": "code",
   "execution_count": null,
   "metadata": {},
   "outputs": [],
   "source": [
    "idx = 600\n",
    "levenshtein_ops(src=dataset[idx][\"asr_transcription\"], reference=dataset[idx][\"target_output\"])"
   ]
  },
  {
   "cell_type": "code",
   "execution_count": null,
   "metadata": {},
   "outputs": [],
   "source": [
    "compare_outputs(idx=idx)"
   ]
  },
  {
   "cell_type": "markdown",
   "metadata": {},
   "source": [
    "## T5 good corrections on ***bad*** W2V2 transcription"
   ]
  },
  {
   "cell_type": "code",
   "execution_count": null,
   "metadata": {},
   "outputs": [],
   "source": [
    "incorrect_w2v2_transcription = np.argwhere(np.transpose(t5_correction_and_results[\"w2v2_vs_target_wer\"]) > 0.0).flatten()\n",
    "correct_t5_correction = np.argwhere(np.transpose(t5_correction_and_results[\"t5_vs_target_wer\"]) == 0.0).flatten()\n",
    "correct_t5_correction_on_bad_asr_transcription = set(correct_t5_correction).intersection(set(incorrect_w2v2_transcription))\n",
    "len(correct_t5_correction_on_bad_asr_transcription)"
   ]
  },
  {
   "cell_type": "code",
   "execution_count": null,
   "metadata": {},
   "outputs": [],
   "source": [
    "correct_t5_correction_on_bad_asr_transcription"
   ]
  },
  {
   "cell_type": "markdown",
   "metadata": {},
   "source": [
    "## Correct ASR and correction"
   ]
  },
  {
   "cell_type": "code",
   "execution_count": null,
   "metadata": {},
   "outputs": [],
   "source": [
    "correct_asr_w_correction = set(correct_w2v2_transcription).intersection(set(correct_t5_correction))\n",
    "len(correct_asr_w_correction)"
   ]
  },
  {
   "cell_type": "code",
   "execution_count": null,
   "metadata": {},
   "outputs": [],
   "source": [
    "correct_asr_w_correction"
   ]
  },
  {
   "cell_type": "markdown",
   "metadata": {},
   "source": [
    "## Incorrect ASR and incorrect correction"
   ]
  },
  {
   "cell_type": "code",
   "execution_count": null,
   "metadata": {},
   "outputs": [],
   "source": [
    "incorrect_asr_w_correction = set(incorrect_w2v2_transcription).intersection(set(incorrect_t5_correction))\n",
    "incorrect_asr_w_correction_idx = list(incorrect_asr_w_correction)\n",
    "len(incorrect_asr_w_correction)"
   ]
  },
  {
   "cell_type": "code",
   "execution_count": null,
   "metadata": {},
   "outputs": [],
   "source": [
    "incorrect_asr_w_correction"
   ]
  },
  {
   "cell_type": "markdown",
   "metadata": {},
   "source": [
    "### Less incorrect ASR (T5 corrected some mistakes)"
   ]
  },
  {
   "cell_type": "code",
   "execution_count": null,
   "metadata": {},
   "outputs": [],
   "source": [
    "less_incorrect_asr_idx = np.argwhere(np.array(t5_correction_and_results[\"w2v2_vs_target_wer\"])[incorrect_asr_w_correction_idx] > np.array(t5_correction_and_results[\"t5_vs_target_wer\"])[incorrect_asr_w_correction_idx]).flatten()\n",
    "less_incorrect_asr = set(np.array(incorrect_asr_w_correction_idx)[less_incorrect_asr_idx])\n",
    "len(less_incorrect_asr)"
   ]
  },
  {
   "cell_type": "code",
   "execution_count": null,
   "metadata": {},
   "outputs": [],
   "source": [
    "less_incorrect_asr"
   ]
  },
  {
   "cell_type": "markdown",
   "metadata": {},
   "source": [
    "### More incorrect ASR (T5 made more mistakes then repaired) "
   ]
  },
  {
   "cell_type": "code",
   "execution_count": null,
   "metadata": {},
   "outputs": [],
   "source": [
    "more_incorrect_asr = incorrect_asr_w_correction.difference(less_incorrect_asr)\n",
    "len(more_incorrect_asr)"
   ]
  },
  {
   "cell_type": "code",
   "execution_count": null,
   "metadata": {},
   "outputs": [],
   "source": [
    "more_incorrect_asr"
   ]
  },
  {
   "cell_type": "markdown",
   "metadata": {},
   "source": [
    "# Measuring semantic closeness between reference sentence and infered ones"
   ]
  },
  {
   "cell_type": "code",
   "execution_count": null,
   "metadata": {},
   "outputs": [],
   "source": [
    "bert_tokenizer = BertTokenizer.from_pretrained(\"fav-kky/FERNET-C5\")\n",
    "bert_model = BertModel.from_pretrained(\"fav-kky/FERNET-C5\").to(device)"
   ]
  },
  {
   "cell_type": "code",
   "execution_count": null,
   "metadata": {},
   "outputs": [],
   "source": [
    "cosine_sim = torch.nn.CosineSimilarity(dim=-1)"
   ]
  },
  {
   "cell_type": "code",
   "execution_count": null,
   "metadata": {},
   "outputs": [],
   "source": [
    "semantic_sim = {\n",
    "    \"sim_w2v2_to_ref\": [],\n",
    "    \"sim_t5_to_ref\": []\n",
    "}\n",
    "for i in tqdm(range(len(dataset))):\n",
    "    ref = dataset[i][\"target_output\"]\n",
    "    \n",
    "    inputs = bert_tokenizer([dataset[i][\"asr_transcription\"], ref], padding=True, return_tensors=\"pt\").to(device)\n",
    "    cls_emb = bert_model(**inputs).last_hidden_state[:, 0, :]\n",
    "    semantic_sim[\"sim_w2v2_to_ref\"].append(cosine_sim.forward(cls_emb[0], cls_emb[1]).item())\n",
    "\n",
    "    inputs = bert_tokenizer([t5_correction_and_results[\"t5_correction\"][i], ref], padding=True, return_tensors=\"pt\").to(device)\n",
    "    cls_emb = bert_model(**inputs).last_hidden_state[:, 0, :]\n",
    "    semantic_sim[\"sim_t5_to_ref\"].append(cosine_sim.forward(cls_emb[0], cls_emb[1]).item())"
   ]
  },
  {
   "cell_type": "code",
   "execution_count": null,
   "metadata": {},
   "outputs": [],
   "source": [
    "np.mean(semantic_sim[\"sim_w2v2_to_ref\"])"
   ]
  },
  {
   "cell_type": "code",
   "execution_count": null,
   "metadata": {},
   "outputs": [],
   "source": [
    "np.min(semantic_sim[\"sim_w2v2_to_ref\"])"
   ]
  },
  {
   "cell_type": "code",
   "execution_count": null,
   "metadata": {},
   "outputs": [],
   "source": [
    "np.std(semantic_sim[\"sim_w2v2_to_ref\"])"
   ]
  },
  {
   "cell_type": "code",
   "execution_count": null,
   "metadata": {},
   "outputs": [],
   "source": [
    "np.mean(semantic_sim[\"sim_t5_to_ref\"])"
   ]
  },
  {
   "cell_type": "code",
   "execution_count": null,
   "metadata": {},
   "outputs": [],
   "source": [
    "np.min(semantic_sim[\"sim_t5_to_ref\"])"
   ]
  },
  {
   "cell_type": "code",
   "execution_count": null,
   "metadata": {},
   "outputs": [],
   "source": [
    "np.std(semantic_sim[\"sim_t5_to_ref\"])"
   ]
  },
  {
   "cell_type": "code",
   "execution_count": null,
   "metadata": {},
   "outputs": [],
   "source": [
    "dataset[441][\"asr_transcription\"]"
   ]
  },
  {
   "cell_type": "code",
   "execution_count": null,
   "metadata": {},
   "outputs": [],
   "source": [
    "t5_correction_and_results[\"t5_correction\"][441]"
   ]
  },
  {
   "cell_type": "code",
   "execution_count": null,
   "metadata": {},
   "outputs": [],
   "source": [
    "dataset[441][\"target_output\"]"
   ]
  },
  {
   "cell_type": "code",
   "execution_count": null,
   "metadata": {},
   "outputs": [],
   "source": [
    "idx = 750\n",
    "w2v2_output=dataset[idx][\"asr_transcription\"]\n",
    "t5_output=t5_correction_and_results[\"t5_correction\"][idx]\n",
    "ref = dataset[idx][\"target_output\"]"
   ]
  },
  {
   "cell_type": "code",
   "execution_count": null,
   "metadata": {},
   "outputs": [],
   "source": [
    "w2v2_output"
   ]
  },
  {
   "cell_type": "code",
   "execution_count": null,
   "metadata": {},
   "outputs": [],
   "source": [
    "t5_output"
   ]
  },
  {
   "cell_type": "code",
   "execution_count": null,
   "metadata": {},
   "outputs": [],
   "source": [
    "ref"
   ]
  },
  {
   "cell_type": "code",
   "execution_count": null,
   "metadata": {},
   "outputs": [],
   "source": [
    "inputs = bert_tokenizer([t5_output, ref], padding=True, return_tensors=\"pt\").to(device)"
   ]
  },
  {
   "cell_type": "code",
   "execution_count": null,
   "metadata": {},
   "outputs": [],
   "source": [
    "embeddings = bert_model(**inputs)\n",
    "cls_emb = embeddings.last_hidden_state[:, 0, :]"
   ]
  },
  {
   "cell_type": "code",
   "execution_count": null,
   "metadata": {},
   "outputs": [],
   "source": [
    "cls_emb"
   ]
  },
  {
   "cell_type": "code",
   "execution_count": null,
   "metadata": {},
   "outputs": [],
   "source": [
    "cls_emb"
   ]
  },
  {
   "cell_type": "code",
   "execution_count": null,
   "metadata": {},
   "outputs": [],
   "source": [
    "cosine_sim.forward(cls_emb[0], cls_emb[1])"
   ]
  },
  {
   "cell_type": "code",
   "execution_count": null,
   "metadata": {},
   "outputs": [],
   "source": []
  }
 ],
 "metadata": {
  "kernelspec": {
   "display_name": "asr_env",
   "language": "python",
   "name": "python3"
  },
  "language_info": {
   "codemirror_mode": {
    "name": "ipython",
    "version": 3
   },
   "file_extension": ".py",
   "mimetype": "text/x-python",
   "name": "python",
   "nbconvert_exporter": "python",
   "pygments_lexer": "ipython3",
   "version": "3.11.4"
  }
 },
 "nbformat": 4,
 "nbformat_minor": 2
}
