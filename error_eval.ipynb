{
 "cells": [
  {
   "cell_type": "code",
   "execution_count": 1,
   "metadata": {},
   "outputs": [],
   "source": [
    "from transformers import T5ForConditionalGeneration, T5Tokenizer, BertTokenizer, BertModel\n",
    "from datasets import Dataset, load_from_disk\n",
    "import evaluate\n",
    "import torch\n",
    "\n",
    "import numpy as np\n",
    "import pandas as pd\n",
    "import re\n",
    "import scipy\n",
    "\n",
    "import matplotlib.pyplot as plt\n",
    "import json\n",
    "\n",
    "from tqdm import tqdm\n",
    "from rapidfuzz.distance import Levenshtein, Opcodes"
   ]
  },
  {
   "cell_type": "code",
   "execution_count": null,
   "metadata": {},
   "outputs": [],
   "source": [
    "T5_MODEL_NAME = \"/home/sulcm/models/t5/t5-spellchecker-cs-v20\""
   ]
  },
  {
   "cell_type": "code",
   "execution_count": null,
   "metadata": {},
   "outputs": [],
   "source": [
    "device = torch.device(\"cuda\" if torch.cuda.is_available() else \"cpu\")"
   ]
  },
  {
   "cell_type": "code",
   "execution_count": 2,
   "metadata": {},
   "outputs": [],
   "source": [
    "dataset = load_from_disk(\"/home/sulcm/datasets/t5/asr-correction-cs-v23/test\")"
   ]
  },
  {
   "cell_type": "code",
   "execution_count": 3,
   "metadata": {},
   "outputs": [
    {
     "data": {
      "text/plain": [
       "Dataset({\n",
       "    features: ['asr_transcription', 'target_output'],\n",
       "    num_rows: 1123\n",
       "})"
      ]
     },
     "execution_count": 3,
     "metadata": {},
     "output_type": "execute_result"
    }
   ],
   "source": [
    "dataset"
   ]
  },
  {
   "cell_type": "markdown",
   "metadata": {},
   "source": [
    "# Create and compute eval data"
   ]
  },
  {
   "cell_type": "code",
   "execution_count": null,
   "metadata": {},
   "outputs": [],
   "source": [
    "wer_metric = evaluate.load(\"wer\")"
   ]
  },
  {
   "cell_type": "code",
   "execution_count": null,
   "metadata": {},
   "outputs": [],
   "source": [
    "prefix = \"spell check: \"\n",
    "t5_tokenizer = T5Tokenizer.from_pretrained(T5_MODEL_NAME)\n",
    "t5_model = T5ForConditionalGeneration.from_pretrained(T5_MODEL_NAME).to(device)"
   ]
  },
  {
   "cell_type": "code",
   "execution_count": null,
   "metadata": {},
   "outputs": [],
   "source": [
    "t5_correction_and_results = {\n",
    "    \"t5_correction\": [],\n",
    "    \"w2v2_vs_target_wer\": [],\n",
    "    \"t5_vs_target_wer\": [],\n",
    "    \"w2v2_vs_t5_wer\": []\n",
    "}\n",
    "\n",
    "for ds_row in tqdm(dataset):\n",
    "    # asr_transcription, target_output\n",
    "    inputs = t5_tokenizer(prefix + ds_row[\"asr_transcription\"], return_tensors=\"pt\").to(device)\n",
    "    output_sequences = t5_model.generate(**inputs, max_new_tokens=64, num_beams=4, do_sample=True)\n",
    "    corrected_input = t5_tokenizer.batch_decode(output_sequences, skip_special_tokens=True)\n",
    "\n",
    "    t5_correction_and_results[\"w2v2_vs_target_wer\"].append(wer_metric.compute(predictions=(ds_row[\"asr_transcription\"],), references=(ds_row[\"target_output\"],)))\n",
    "    t5_correction_and_results[\"t5_vs_target_wer\"].append(wer_metric.compute(predictions=corrected_input, references=(ds_row[\"target_output\"],)))\n",
    "    t5_correction_and_results[\"w2v2_vs_t5_wer\"].append(wer_metric.compute(predictions=(ds_row[\"asr_transcription\"],), references=corrected_input))\n",
    "    t5_correction_and_results[\"t5_correction\"].extend(corrected_input)"
   ]
  },
  {
   "cell_type": "code",
   "execution_count": null,
   "metadata": {},
   "outputs": [],
   "source": [
    "# with open(\"./data/error_eval_ds_v23_test_w_t5_v4.json\", \"w\") as f:\n",
    "#     json.dump(t5_correction_and_results, f)"
   ]
  },
  {
   "cell_type": "markdown",
   "metadata": {},
   "source": [
    "# Evaluation of results"
   ]
  },
  {
   "cell_type": "code",
   "execution_count": 4,
   "metadata": {},
   "outputs": [],
   "source": [
    "with open(\"./data/error_eval_ds_v23_test_w_t5_v20.json\", \"r\") as f:\n",
    "    t5_correction_and_results = json.load(f)"
   ]
  },
  {
   "cell_type": "code",
   "execution_count": 116,
   "metadata": {},
   "outputs": [],
   "source": [
    "class ST6ErrorAnalysis():\n",
    "    def __init__(self, classes_def_path: str=\"\") -> None:\n",
    "        word_classes_file = {}\n",
    "        if classes_def_path:\n",
    "            with open(classes_def_path, \"r\") as f:\n",
    "                word_classes_file = json.load(f)\n",
    "\n",
    "        self.word_classes_by_label = word_classes_file.get(\"definitions\", {})\n",
    "        self.id2label = word_classes_file.get(\"classes\", [])\n",
    "        self.label2id = {l: i for i, l in enumerate(self.id2label)}\n",
    "        \n",
    "        self.test_methods = [self.is_preposition,\n",
    "                             self.is_conjunction,\n",
    "                             self.is_prefix,\n",
    "                             self.is_iy,\n",
    "                             self.is_uu,\n",
    "                             self.is_sz,]\n",
    "\n",
    "        pass\n",
    "\n",
    "    def get_error_classes(self, lev_ops: dict) -> list[dict]:\n",
    "        errors = []\n",
    "        for action, model_output, reference in zip(lev_ops[\"action\"], lev_ops[\"model_output\"], lev_ops[\"reference\"]):\n",
    "            match action:\n",
    "                case \"delete\":\n",
    "                    errors.append(self.resolve_error_tests([test_fcn(action, reference) for test_fcn in self.test_methods], reference, action))\n",
    "                case \"insert\":\n",
    "                    errors.append(self.resolve_error_tests([test_fcn(action, model_output) for test_fcn in self.test_methods], model_output, action))\n",
    "                case \"replace\":\n",
    "                    replaced = (model_output[0], reference[0])\n",
    "                    errors.append(self.resolve_error_tests([test_fcn(action, replaced) for test_fcn in self.test_methods], replaced, action))\n",
    "        return errors\n",
    "\n",
    "    def resolve_error_tests(self, tests: list, tested: tuple[str], operation: str) -> dict:\n",
    "        if any(tests):\n",
    "            res = [err for err in tests if err is not None]\n",
    "        elif tested[0] == \"\" or tested[0] == \" \":\n",
    "            res = []\n",
    "        else:\n",
    "            res = [\"other\"]\n",
    "        \n",
    "        space_err = self.check_spaces(operation, tested)\n",
    "        if space_err:\n",
    "            res.append(space_err)\n",
    "        \n",
    "        return {operation: res}\n",
    "\n",
    "    def check_spaces(self, operation: str, op: tuple[str]) -> str|None:\n",
    "        val = op[0]\n",
    "        context = op[1].split(\" \")\n",
    "        if val == \"\" and len(context) == 1:\n",
    "            return \"removed_space\"\n",
    "        elif \" \" in val and len(context) > 1:\n",
    "            if operation == \"delete\":\n",
    "                return \"removed_space\"\n",
    "            else:\n",
    "                return \"added_space\"\n",
    "        else:\n",
    "            return None\n",
    "\n",
    "    def is_preposition(self, operation: str, op: tuple[str]) -> str|None:\n",
    "        val = op[0].strip()\n",
    "        context = op[1].split(\" \")\n",
    "        if val in self.word_classes_by_label[\"prepositions\"] and val in context:\n",
    "            return \"prepositions\"\n",
    "        else:\n",
    "            return None\n",
    "    \n",
    "    def is_conjunction(self, operation: str, op: tuple[str]) -> str|None:\n",
    "        val = op[0].strip()\n",
    "        context = op[1].split(\" \")\n",
    "        if val in self.word_classes_by_label[\"conjunctions\"] and val in context:\n",
    "            return \"conjunctions\"\n",
    "        else:\n",
    "            return None\n",
    "    \n",
    "    def is_prefix(self, operation: str, op: tuple[str]) -> str|None:\n",
    "        val = op[0].strip()\n",
    "        context = op[1].split(\" \")\n",
    "        if val in self.word_classes_by_label[\"prefixes\"] and any([c.startswith(val) and len(c) > len(val) for c in context]):\n",
    "            return \"prefixes\"\n",
    "        else:\n",
    "            return None\n",
    "        \n",
    "    def is_iy(self, operation: str, op: tuple[str]) -> str|None:\n",
    "        val = op[0].strip()\n",
    "        context = op[1].strip()\n",
    "        if val in self.word_classes_by_label[\"iy\"] and context in self.word_classes_by_label[\"iy\"] and val != context:\n",
    "            return \"iy\"\n",
    "        else:\n",
    "            return None\n",
    "    \n",
    "    def is_uu(self, operation: str, op: tuple[str]) -> str|None:\n",
    "        val = op[0].strip()\n",
    "        context = op[1].strip()\n",
    "        if val in self.word_classes_by_label[\"uu\"] and context in self.word_classes_by_label[\"uu\"] and val != context:\n",
    "            return \"uu\"\n",
    "        else:\n",
    "            return None\n",
    "    \n",
    "    def is_sz(self, operation: str, op: tuple[str]) -> str|None:\n",
    "        val = op[0].strip()\n",
    "        context = op[1].strip()\n",
    "        if val in self.word_classes_by_label[\"sz\"] and context in self.word_classes_by_label[\"sz\"] and val != context:\n",
    "            return \"sz\"\n",
    "        else:\n",
    "            return None\n",
    "        \n",
    "    def analyse_error_classes(self, dataset_idxs: list|set|str, ds_model_output: list, ds_target_output: list, operations: list=[\"delete\", \"insert\", \"replace\"], return_raw_pd: bool=False) -> dict[dict]|pd.DataFrame:\n",
    "        if dataset_idxs == \"all\":\n",
    "            dataset_idxs = range(len(ds_target_output))\n",
    "        if isinstance(dataset_idxs, str):\n",
    "            raise ValueError('String can not refer to list items. Please provide list/set or string \"all\" for iterating thru all items.')\n",
    "        \n",
    "        err_analysis = []\n",
    "        for test_idx in dataset_idxs:\n",
    "            idx = int(test_idx)\n",
    "            lev_ops = self.levenshtein_ops(model_output=ds_model_output[idx], reference=ds_target_output[idx])\n",
    "            if return_raw_pd:\n",
    "                err_analysis.append(self.get_error_classes(lev_ops))\n",
    "            else:\n",
    "                err_analysis.extend(self.get_error_classes(lev_ops))\n",
    "        \n",
    "        if return_raw_pd:\n",
    "            return pd.DataFrame.from_records(err_analysis)\n",
    "        else:\n",
    "            error_classes_counts = {}\n",
    "            for op in operations:\n",
    "                class_counts = dict.fromkeys(self.id2label, 0)\n",
    "                class_counts.update(pd.DataFrame.from_records(err_analysis)[op].dropna().explode().value_counts().to_dict())\n",
    "                error_classes_counts[op] = class_counts\n",
    "            \n",
    "            return error_classes_counts\n",
    "    \n",
    "    def plot_error_analysis(self, err_analysis: dict, title: str=None) -> None:\n",
    "        fig, axes = plt.subplots(ncols=len(err_analysis))\n",
    "        fig.set_figwidth(10)\n",
    "        if title:\n",
    "            fig.suptitle(title)\n",
    "        for i, (action, stats) in enumerate(err_analysis.items()):\n",
    "            axes[i].bar(stats.keys(), stats.values())\n",
    "            axes[i].tick_params(axis='x', labelrotation=90)\n",
    "            axes[i].set_title(action)\n",
    "            axes[i].bar_label(axes[i].containers[0], label_type='edge')\n",
    "        plt.show()\n",
    "    \n",
    "    @staticmethod\n",
    "    def levenshtein_ops(model_output: str, reference: str) -> dict:\n",
    "        lev_ops = Levenshtein.editops(reference, model_output)\n",
    "        lev_ops_dict = {\n",
    "            \"action\": [],\n",
    "            \"model_output\": [],\n",
    "            \"reference\": [],\n",
    "        }\n",
    "        for ops in Opcodes.from_editops(lev_ops):\n",
    "            if ops.tag != \"equal\":\n",
    "                lev_ops_dict[\"action\"].append(ops.tag)\n",
    "                lev_ops_dict[\"reference\"].append((reference[ops.src_start:ops.src_end],\n",
    "                                            (src_start[-1] if (src_start := reference[:ops.src_start].split(\" \")) else \"\") + \n",
    "                                            reference[ops.src_start:ops.src_end] + \n",
    "                                            (src_end[0] if (src_end := reference[ops.src_end:].split(\" \")) else \"\")))\n",
    "                lev_ops_dict[\"model_output\"].append((model_output[ops.dest_start:ops.dest_end], \n",
    "                                            (dest_start[-1] if (dest_start := model_output[:ops.dest_start].split(\" \")) else \"\") + \n",
    "                                            model_output[ops.dest_start:ops.dest_end] + \n",
    "                                            (dest_end[0] if (dest_end := model_output[ops.dest_end:].split(\" \")) else \"\")))\n",
    "        return lev_ops_dict\n",
    "\n",
    "\n",
    "st6_error_analysis = ST6ErrorAnalysis(\"data/word_classes_definitions.json\")"
   ]
  },
  {
   "cell_type": "code",
   "execution_count": 38,
   "metadata": {},
   "outputs": [],
   "source": [
    "def compare_outputs(idx: int) -> None:\n",
    "    print(\n",
    "        f\"W2V2 Transcription (WER = {t5_correction_and_results['w2v2_vs_target_wer'][idx]:.4f}): \" + dataset[idx]['asr_transcription'],\n",
    "        f\"     T5 Correction (WER = {t5_correction_and_results['t5_vs_target_wer'][idx]:.4f}): \" + t5_correction_and_results['t5_correction'][idx],\n",
    "        \"                    Target output: \" + dataset[idx]['target_output'],\n",
    "        sep=\"\\n\"\n",
    "    )"
   ]
  },
  {
   "cell_type": "code",
   "execution_count": 39,
   "metadata": {},
   "outputs": [
    {
     "data": {
      "text/plain": [
       "(1123, 85)"
      ]
     },
     "execution_count": 39,
     "metadata": {},
     "output_type": "execute_result"
    }
   ],
   "source": [
    "t5_errors_df = st6_error_analysis.analyse_error_classes(\"all\", t5_correction_and_results['t5_correction'], dataset[\"target_output\"], return_raw_pd=True)\n",
    "t5_errors_df.shape"
   ]
  },
  {
   "cell_type": "code",
   "execution_count": 7,
   "metadata": {},
   "outputs": [
    {
     "data": {
      "text/plain": [
       "{'action': ['insert',\n",
       "  'replace',\n",
       "  'replace',\n",
       "  'replace',\n",
       "  'replace',\n",
       "  'replace',\n",
       "  'delete',\n",
       "  'replace',\n",
       "  'insert',\n",
       "  'replace',\n",
       "  'insert',\n",
       "  'replace',\n",
       "  'replace',\n",
       "  'insert',\n",
       "  'replace',\n",
       "  'insert',\n",
       "  'insert',\n",
       "  'replace',\n",
       "  'replace',\n",
       "  'insert',\n",
       "  'replace',\n",
       "  'insert',\n",
       "  'replace',\n",
       "  'insert',\n",
       "  'replace',\n",
       "  'replace',\n",
       "  'delete',\n",
       "  'replace',\n",
       "  'insert',\n",
       "  'replace',\n",
       "  'replace',\n",
       "  'delete',\n",
       "  'replace',\n",
       "  'insert',\n",
       "  'replace',\n",
       "  'replace',\n",
       "  'delete',\n",
       "  'replace',\n",
       "  'insert',\n",
       "  'replace',\n",
       "  'replace',\n",
       "  'replace',\n",
       "  'delete',\n",
       "  'replace',\n",
       "  'replace',\n",
       "  'insert',\n",
       "  'insert',\n",
       "  'replace',\n",
       "  'replace',\n",
       "  'delete',\n",
       "  'replace',\n",
       "  'replace',\n",
       "  'delete',\n",
       "  'replace',\n",
       "  'replace',\n",
       "  'delete',\n",
       "  'replace',\n",
       "  'delete',\n",
       "  'replace',\n",
       "  'delete',\n",
       "  'replace',\n",
       "  'delete',\n",
       "  'replace',\n",
       "  'delete',\n",
       "  'delete',\n",
       "  'replace',\n",
       "  'delete',\n",
       "  'replace',\n",
       "  'delete',\n",
       "  'replace',\n",
       "  'delete',\n",
       "  'delete',\n",
       "  'insert',\n",
       "  'replace',\n",
       "  'replace',\n",
       "  'insert',\n",
       "  'replace',\n",
       "  'insert',\n",
       "  'replace',\n",
       "  'replace',\n",
       "  'replace',\n",
       "  'delete',\n",
       "  'replace',\n",
       "  'delete',\n",
       "  'delete'],\n",
       " 'model_output': [('pa', 'paní'),\n",
       "  ('ní', 'paní'),\n",
       "  ('př', 'předsedající'),\n",
       "  ('ds', 'předsedající'),\n",
       "  ('dající váž', 'předsedající vážený'),\n",
       "  ('ný pa', 'vážený pane'),\n",
       "  ('', 'pane'),\n",
       "  ('e', 'pane'),\n",
       "  ('p', 'předsedo'),\n",
       "  ('ř', 'předsedo'),\n",
       "  ('d', 'předsedo'),\n",
       "  ('sedo', 'předsedo'),\n",
       "  ('k', 'komise'),\n",
       "  ('m', 'komise'),\n",
       "  ('ise', 'komise'),\n",
       "  ('s', 'jsem'),\n",
       "  ('m', 'jsem'),\n",
       "  ('v', 'velmi'),\n",
       "  ('lmi', 'velmi'),\n",
       "  ('r', 'ráda'),\n",
       "  ('á', 'ráda'),\n",
       "  ('že j', 'že jste'),\n",
       "  ('e ', 'jste nakonec'),\n",
       "  ('ak', 'nakonec'),\n",
       "  ('onec', 'nakonec'),\n",
       "  ('d', 'dokázal'),\n",
       "  ('', 'dokázal'),\n",
       "  ('ázal', 'dokázal'),\n",
       "  ('sr', 'srovnat'),\n",
       "  ('ov', 'srovnat'),\n",
       "  ('at priori', 'srovnat priority'),\n",
       "  ('', 'priority'),\n",
       "  ('pro', 'pro'),\n",
       "  ('p', 'práci'),\n",
       "  ('ráci ko', 'práci komise'),\n",
       "  ('is', 'komise'),\n",
       "  ('', 'tak'),\n",
       "  ('ak jak', 'tak jak'),\n",
       "  ('ji', 'ji'),\n",
       "  (' vnímám', 'ji vnímáme'),\n",
       "  ('i', 'i'),\n",
       "  ('my', 'my'),\n",
       "  ('', 'my'),\n",
       "  ('občané', 'občané'),\n",
       "  ('z', 'ze'),\n",
       "  ('s', 'střední'),\n",
       "  ('d', 'střední'),\n",
       "  ('ní', 'střední'),\n",
       "  ('a', 'a'),\n",
       "  ('', 'a'),\n",
       "  ('vý', 'východní'),\n",
       "  ('ní', 'východní'),\n",
       "  ('', 'východní'),\n",
       "  ('evr', 'evropy'),\n",
       "  ('p', 'evropy'),\n",
       "  ('', 'evropy'),\n",
       "  ('že ', 'že vidíte'),\n",
       "  ('', 'vidíte'),\n",
       "  ('dí', 'vidíte'),\n",
       "  ('', 'vidíte'),\n",
       "  ('e', 'vidíte'),\n",
       "  ('', 'vidíte'),\n",
       "  ('b', 'bezpečnost'),\n",
       "  ('', 'bezpečnost'),\n",
       "  ('', 'bezpečnost'),\n",
       "  ('p', 'bezpečnost'),\n",
       "  ('', 'bezpečnost'),\n",
       "  ('č', 'bezpečnost'),\n",
       "  ('', 'bezpečnost'),\n",
       "  ('os', 'bezpečnost'),\n",
       "  ('', 'bezpečnost'),\n",
       "  ('', 'bezpečnost'),\n",
       "  ('o', 'jako'),\n",
       "  ('ku', 'skutečnou'),\n",
       "  ('ečn', 'skutečnou'),\n",
       "  ('u', 'skutečnou'),\n",
       "  (' ', 'skutečnou prioritu'),\n",
       "  ('ri', 'prioritu'),\n",
       "  ('ritu', 'prioritu'),\n",
       "  ('souh', 'souhlasím'),\n",
       "  ('sím', 'souhlasím'),\n",
       "  ('', 'souhlasím'),\n",
       "  ('tak', 'také'),\n",
       "  ('', 'také'),\n",
       "  ('', 'také')],\n",
       " 'reference': [('', 'by'),\n",
       "  ('by', 'by'),\n",
       "  ('al', 'ale'),\n",
       "  (' n', 'ale neměla'),\n",
       "  ('měla být r', 'neměla být redukována'),\n",
       "  ('dukov', 'redukována'),\n",
       "  ('á', 'redukována'),\n",
       "  ('a', 'redukována'),\n",
       "  ('', 'jen'),\n",
       "  ('j', 'jen'),\n",
       "  ('', 'jen'),\n",
       "  ('n na', 'jen na'),\n",
       "  ('t', 'to'),\n",
       "  ('', 'to'),\n",
       "  (' co', 'to co'),\n",
       "  ('', 'je'),\n",
       "  ('', 'je'),\n",
       "  ('l', 'lepší'),\n",
       "  ('pší', 'lepší'),\n",
       "  ('', 'zda'),\n",
       "  ('z', 'zda'),\n",
       "  ('', 'státní'),\n",
       "  ('át', 'státní'),\n",
       "  ('', 'státní'),\n",
       "  ('í či', 'státní či'),\n",
       "  ('s', 'soukromé'),\n",
       "  ('u', 'soukromé'),\n",
       "  ('romé', 'soukromé'),\n",
       "  ('', 'penzijní'),\n",
       "  ('pe', 'penzijní'),\n",
       "  ('zijní sys', 'penzijní systémy'),\n",
       "  ('ém', 'systémy'),\n",
       "  ('ale', 'ale'),\n",
       "  ('', 'vzhledem'),\n",
       "  ('vzhlede', 'vzhledem'),\n",
       "  (' k', 'vzhledem ke'),\n",
       "  ('s', 'stárnutí'),\n",
       "  ('árnutí', 'stárnutí'),\n",
       "  ('', 'populace'),\n",
       "  ('populac', 'populace'),\n",
       "  ('a', 'a'),\n",
       "  ('da', 'dalším'),\n",
       "  ('lším', 'dalším'),\n",
       "  ('výzvám', 'výzvám'),\n",
       "  ('j', 'je'),\n",
       "  ('', 'třeba'),\n",
       "  ('', 'třeba'),\n",
       "  ('ba', 'třeba'),\n",
       "  ('ř', 'řešit'),\n",
       "  ('ešit', 'řešit'),\n",
       "  ('dů', 'důchodové'),\n",
       "  ('ov', 'důchodové'),\n",
       "  ('é', 'důchodové'),\n",
       "  ('ref', 'reformy'),\n",
       "  ('r', 'reformy'),\n",
       "  ('m', 'reformy'),\n",
       "  ('prá', 'právě'),\n",
       "  ('ě ', 'právě i'),\n",
       "  (' v', 'i v'),\n",
       "  (' ', 'v tomto'),\n",
       "  ('o', 'tomto'),\n",
       "  ('mto', 'tomto'),\n",
       "  ('k', 'kontextu'),\n",
       "  ('ont', 'kontextu'),\n",
       "  ('xtu a ', 'kontextu a zamyslet'),\n",
       "  ('a', 'zamyslet'),\n",
       "  ('mysl', 'zamyslet'),\n",
       "  ('t', 'zamyslet'),\n",
       "  (' se ', 'zamyslet se nad'),\n",
       "  ('ad', 'nad'),\n",
       "  (' ', 'nad tím'),\n",
       "  ('ím', 'tím'),\n",
       "  ('', 'jak'),\n",
       "  ('ys', 'systém'),\n",
       "  ('ém ', 'systém odpovídá'),\n",
       "  ('', 'odpovídá'),\n",
       "  ('d', 'odpovídá'),\n",
       "  ('', 'odpovídá'),\n",
       "  ('vídá', 'odpovídá'),\n",
       "  ('na s', 'na slaďování'),\n",
       "  ('ďov', 'slaďování'),\n",
       "  ('ání', 'slaďování'),\n",
       "  ('rod', 'rodinného'),\n",
       "  ('inn', 'rodinného'),\n",
       "  ('ho', 'rodinného')]}"
      ]
     },
     "execution_count": 7,
     "metadata": {},
     "output_type": "execute_result"
    }
   ],
   "source": [
    "idx = 834\n",
    "st6_error_analysis.levenshtein_ops(t5_correction_and_results['t5_correction'][idx], dataset[idx][\"target_output\"])"
   ]
  },
  {
   "cell_type": "code",
   "execution_count": 9,
   "metadata": {},
   "outputs": [
    {
     "data": {
      "text/plain": [
       "834"
      ]
     },
     "execution_count": 9,
     "metadata": {},
     "output_type": "execute_result"
    }
   ],
   "source": [
    "t5_errors_df.notnull().sum(axis=1).argmax()"
   ]
  },
  {
   "cell_type": "code",
   "execution_count": 12,
   "metadata": {},
   "outputs": [
    {
     "data": {
      "text/plain": [
       "0                     {'insert': ['other']}\n",
       "1                    {'replace': ['other']}\n",
       "2                    {'replace': ['other']}\n",
       "3                    {'replace': ['other']}\n",
       "4     {'replace': ['other', 'added_space']}\n",
       "                      ...                  \n",
       "80                   {'replace': ['other']}\n",
       "81                    {'delete': ['other']}\n",
       "82                   {'replace': ['other']}\n",
       "83                    {'delete': ['other']}\n",
       "84                    {'delete': ['other']}\n",
       "Name: 834, Length: 85, dtype: object"
      ]
     },
     "execution_count": 12,
     "metadata": {},
     "output_type": "execute_result"
    }
   ],
   "source": [
    "t5_errors_df.iloc[834]"
   ]
  },
  {
   "cell_type": "code",
   "execution_count": null,
   "metadata": {},
   "outputs": [],
   "source": [
    "lev_ops = st6_error_analysis.levenshtein_ops(t5_correction_and_results['t5_correction'][834], dataset[834][\"target_output\"])\n",
    "lev_ops"
   ]
  },
  {
   "cell_type": "code",
   "execution_count": 13,
   "metadata": {},
   "outputs": [
    {
     "name": "stdout",
     "output_type": "stream",
     "text": [
      "W2V2 Transcription (WER = 0.9565): mesimedamelaphezidot losko lupuz lakisto dosefituhothet ažonthava jerohopěa nusodovompak a kúmb isileivha  sudemonšcht sínonohajune i setkham dolaženes sunypajunph irezony sytansontimonaketud bjjoležitim paskolokostadožodjy nusavo tůsitalakmo\n",
      "     T5 Correction (WER = 0.9783): paní předsedající vážený pane předsedo komise jsem velmi ráda že jste nakonec dokázal srovnat priority pro práci komise tak jak ji vnímáme i my občané ze střední a východní evropy že vidíte bezpečnost jako skutečnou prioritu souhlasím také\n",
      "                    Target output: by ale neměla být redukována jen na to co je lepší zda státní či soukromé penzijní systémy ale vzhledem ke stárnutí populace a dalším výzvám je třeba řešit důchodové reformy právě i v tomto kontextu a zamyslet se nad tím jak systém odpovídá na slaďování rodinného\n"
     ]
    }
   ],
   "source": [
    "compare_outputs(834)"
   ]
  },
  {
   "cell_type": "code",
   "execution_count": 109,
   "metadata": {},
   "outputs": [],
   "source": [
    "t5_errors = st6_error_analysis.analyse_error_classes(\"all\", t5_correction_and_results['t5_correction'], dataset[\"target_output\"])"
   ]
  },
  {
   "cell_type": "code",
   "execution_count": 110,
   "metadata": {},
   "outputs": [
    {
     "data": {
      "image/png": "[encoded data removed]",
      "text/plain": [
       "<Figure size 1000x480 with 3 Axes>"
      ]
     },
     "metadata": {},
     "output_type": "display_data"
    }
   ],
   "source": [
    "st6_error_analysis.plot_error_analysis(t5_errors, title=\"T5 errors on W2V2 output vs target output\")"
   ]
  },
  {
   "cell_type": "code",
   "execution_count": 11,
   "metadata": {},
   "outputs": [
    {
     "data": {
      "text/plain": [
       "(1123, 80)"
      ]
     },
     "execution_count": 11,
     "metadata": {},
     "output_type": "execute_result"
    }
   ],
   "source": [
    "w2v2_errors_df = st6_error_analysis.analyse_error_classes(\"all\", dataset[\"asr_transcription\"], dataset[\"target_output\"], return_raw_pd=True)\n",
    "w2v2_errors_df.shape"
   ]
  },
  {
   "cell_type": "code",
   "execution_count": 12,
   "metadata": {},
   "outputs": [
    {
     "data": {
      "text/plain": [
       "171"
      ]
     },
     "execution_count": 12,
     "metadata": {},
     "output_type": "execute_result"
    }
   ],
   "source": [
    "w2v2_errors_df.notnull().sum(axis=1).argmax()"
   ]
  },
  {
   "cell_type": "code",
   "execution_count": 117,
   "metadata": {},
   "outputs": [],
   "source": [
    "w2v2_errors = st6_error_analysis.analyse_error_classes(\"all\", dataset[\"asr_transcription\"], dataset[\"target_output\"])"
   ]
  },
  {
   "cell_type": "code",
   "execution_count": 118,
   "metadata": {},
   "outputs": [
    {
     "data": {
      "image/png": "[encoded data removed]",
      "text/plain": [
       "<Figure size 1000x480 with 3 Axes>"
      ]
     },
     "metadata": {},
     "output_type": "display_data"
    }
   ],
   "source": [
    "st6_error_analysis.plot_error_analysis(w2v2_errors, title=\"W2V2 output vs target output\")"
   ]
  },
  {
   "cell_type": "markdown",
   "metadata": {},
   "source": [
    "## T5 mistakes on ***correct*** W2V2 transcription"
   ]
  },
  {
   "cell_type": "code",
   "execution_count": 14,
   "metadata": {},
   "outputs": [
    {
     "data": {
      "text/plain": [
       "22"
      ]
     },
     "execution_count": 14,
     "metadata": {},
     "output_type": "execute_result"
    }
   ],
   "source": [
    "correct_w2v2_transcription = np.argwhere(np.transpose(t5_correction_and_results[\"w2v2_vs_target_wer\"]) == 0.0).flatten()\n",
    "incorrect_t5_correction = np.argwhere(np.transpose(t5_correction_and_results[\"t5_vs_target_wer\"]) > 0.0).flatten()\n",
    "correct_asr_transcription_incorect_t5_correction = set(correct_w2v2_transcription).intersection(set(incorrect_t5_correction))\n",
    "len(correct_asr_transcription_incorect_t5_correction)"
   ]
  },
  {
   "cell_type": "code",
   "execution_count": 15,
   "metadata": {},
   "outputs": [
    {
     "data": {
      "text/plain": [
       "{75,\n",
       " 148,\n",
       " 156,\n",
       " 222,\n",
       " 305,\n",
       " 397,\n",
       " 412,\n",
       " 423,\n",
       " 432,\n",
       " 438,\n",
       " 476,\n",
       " 498,\n",
       " 517,\n",
       " 535,\n",
       " 699,\n",
       " 740,\n",
       " 779,\n",
       " 822,\n",
       " 861,\n",
       " 862,\n",
       " 1078,\n",
       " 1096}"
      ]
     },
     "execution_count": 15,
     "metadata": {},
     "output_type": "execute_result"
    }
   ],
   "source": [
    "correct_asr_transcription_incorect_t5_correction"
   ]
  },
  {
   "cell_type": "code",
   "execution_count": null,
   "metadata": {},
   "outputs": [],
   "source": [
    "st6_error_analysis.analyse_error_classes(correct_asr_transcription_incorect_t5_correction, t5_correction_and_results['t5_correction'], dataset[\"target_output\"])"
   ]
  },
  {
   "cell_type": "code",
   "execution_count": 22,
   "metadata": {},
   "outputs": [
    {
     "data": {
      "text/plain": [
       "{'action': ['delete'],\n",
       " 'model_output': [('', 'zadruhé')],\n",
       " 'reference': [(' ', 'za druhé')]}"
      ]
     },
     "execution_count": 22,
     "metadata": {},
     "output_type": "execute_result"
    }
   ],
   "source": [
    "idx = 779\n",
    "lev_ops = ST6ErrorAnalysis.levenshtein_ops(model_output=t5_correction_and_results['t5_correction'][idx], reference=dataset[idx][\"target_output\"])\n",
    "lev_ops"
   ]
  },
  {
   "cell_type": "code",
   "execution_count": null,
   "metadata": {},
   "outputs": [],
   "source": [
    "st6_error_analysis.get_error_classes(lev_ops)"
   ]
  },
  {
   "cell_type": "code",
   "execution_count": null,
   "metadata": {},
   "outputs": [],
   "source": [
    "compare_outputs(idx=idx)"
   ]
  },
  {
   "cell_type": "code",
   "execution_count": null,
   "metadata": {},
   "outputs": [],
   "source": [
    "err_analysis = []\n",
    "for test_idx in correct_asr_transcription_incorect_t5_correction:\n",
    "    idx = int(test_idx)\n",
    "    lev_ops = ST6ErrorAnalysis.levenshtein_ops(model_output=t5_correction_and_results['t5_correction'][idx], reference=dataset[idx][\"target_output\"])\n",
    "    err_analysis.extend(st6_error_analysis.get_error_classes(lev_ops))"
   ]
  },
  {
   "cell_type": "code",
   "execution_count": null,
   "metadata": {},
   "outputs": [],
   "source": [
    "pd.DataFrame.from_records(err_analysis)[\"insert\"].dropna().explode().value_counts()"
   ]
  },
  {
   "cell_type": "markdown",
   "metadata": {},
   "source": [
    "## T5 good corrections on ***bad*** W2V2 transcription"
   ]
  },
  {
   "cell_type": "code",
   "execution_count": 23,
   "metadata": {},
   "outputs": [
    {
     "data": {
      "text/plain": [
       "185"
      ]
     },
     "execution_count": 23,
     "metadata": {},
     "output_type": "execute_result"
    }
   ],
   "source": [
    "incorrect_w2v2_transcription = np.argwhere(np.transpose(t5_correction_and_results[\"w2v2_vs_target_wer\"]) > 0.0).flatten()\n",
    "correct_t5_correction = np.argwhere(np.transpose(t5_correction_and_results[\"t5_vs_target_wer\"]) == 0.0).flatten()\n",
    "correct_t5_correction_on_bad_asr_transcription = set(correct_t5_correction).intersection(set(incorrect_w2v2_transcription))\n",
    "len(correct_t5_correction_on_bad_asr_transcription)"
   ]
  },
  {
   "cell_type": "markdown",
   "metadata": {},
   "source": [
    "## Correct ASR and correction"
   ]
  },
  {
   "cell_type": "code",
   "execution_count": null,
   "metadata": {},
   "outputs": [],
   "source": [
    "correct_asr_w_correction = set(correct_w2v2_transcription).intersection(set(correct_t5_correction))\n",
    "len(correct_asr_w_correction)"
   ]
  },
  {
   "cell_type": "code",
   "execution_count": null,
   "metadata": {},
   "outputs": [],
   "source": [
    "correct_asr_w_correction"
   ]
  },
  {
   "cell_type": "markdown",
   "metadata": {},
   "source": [
    "## Incorrect ASR and incorrect correction"
   ]
  },
  {
   "cell_type": "code",
   "execution_count": 26,
   "metadata": {},
   "outputs": [
    {
     "data": {
      "text/plain": [
       "686"
      ]
     },
     "execution_count": 26,
     "metadata": {},
     "output_type": "execute_result"
    }
   ],
   "source": [
    "incorrect_asr_w_correction = set(incorrect_w2v2_transcription).intersection(set(incorrect_t5_correction))\n",
    "incorrect_asr_w_correction_idx = list(incorrect_asr_w_correction)\n",
    "len(incorrect_asr_w_correction)"
   ]
  },
  {
   "cell_type": "code",
   "execution_count": 27,
   "metadata": {},
   "outputs": [
    {
     "data": {
      "text/plain": [
       "{0,\n",
       " 2,\n",
       " 3,\n",
       " 4,\n",
       " 5,\n",
       " 6,\n",
       " 8,\n",
       " 9,\n",
       " 11,\n",
       " 12,\n",
       " 13,\n",
       " 15,\n",
       " 16,\n",
       " 18,\n",
       " 21,\n",
       " 22,\n",
       " 24,\n",
       " 25,\n",
       " 26,\n",
       " 28,\n",
       " 30,\n",
       " 31,\n",
       " 32,\n",
       " 33,\n",
       " 35,\n",
       " 36,\n",
       " 38,\n",
       " 39,\n",
       " 42,\n",
       " 43,\n",
       " 44,\n",
       " 52,\n",
       " 53,\n",
       " 54,\n",
       " 55,\n",
       " 56,\n",
       " 57,\n",
       " 59,\n",
       " 60,\n",
       " 61,\n",
       " 62,\n",
       " 63,\n",
       " 64,\n",
       " 65,\n",
       " 66,\n",
       " 67,\n",
       " 69,\n",
       " 70,\n",
       " 72,\n",
       " 73,\n",
       " 74,\n",
       " 76,\n",
       " 77,\n",
       " 79,\n",
       " 80,\n",
       " 82,\n",
       " 83,\n",
       " 84,\n",
       " 85,\n",
       " 88,\n",
       " 89,\n",
       " 90,\n",
       " 93,\n",
       " 94,\n",
       " 95,\n",
       " 96,\n",
       " 97,\n",
       " 98,\n",
       " 99,\n",
       " 102,\n",
       " 105,\n",
       " 106,\n",
       " 107,\n",
       " 110,\n",
       " 111,\n",
       " 112,\n",
       " 113,\n",
       " 114,\n",
       " 115,\n",
       " 117,\n",
       " 118,\n",
       " 119,\n",
       " 120,\n",
       " 121,\n",
       " 122,\n",
       " 123,\n",
       " 124,\n",
       " 125,\n",
       " 127,\n",
       " 130,\n",
       " 132,\n",
       " 134,\n",
       " 135,\n",
       " 136,\n",
       " 137,\n",
       " 140,\n",
       " 141,\n",
       " 142,\n",
       " 144,\n",
       " 146,\n",
       " 150,\n",
       " 151,\n",
       " 152,\n",
       " 153,\n",
       " 154,\n",
       " 155,\n",
       " 157,\n",
       " 158,\n",
       " 159,\n",
       " 160,\n",
       " 162,\n",
       " 164,\n",
       " 165,\n",
       " 166,\n",
       " 169,\n",
       " 170,\n",
       " 171,\n",
       " 172,\n",
       " 173,\n",
       " 174,\n",
       " 176,\n",
       " 177,\n",
       " 178,\n",
       " 179,\n",
       " 180,\n",
       " 181,\n",
       " 182,\n",
       " 184,\n",
       " 188,\n",
       " 189,\n",
       " 190,\n",
       " 192,\n",
       " 193,\n",
       " 194,\n",
       " 195,\n",
       " 196,\n",
       " 197,\n",
       " 198,\n",
       " 200,\n",
       " 201,\n",
       " 205,\n",
       " 206,\n",
       " 207,\n",
       " 210,\n",
       " 211,\n",
       " 212,\n",
       " 213,\n",
       " 214,\n",
       " 215,\n",
       " 216,\n",
       " 218,\n",
       " 219,\n",
       " 220,\n",
       " 224,\n",
       " 225,\n",
       " 226,\n",
       " 227,\n",
       " 228,\n",
       " 230,\n",
       " 232,\n",
       " 234,\n",
       " 235,\n",
       " 236,\n",
       " 237,\n",
       " 239,\n",
       " 240,\n",
       " 242,\n",
       " 243,\n",
       " 244,\n",
       " 246,\n",
       " 247,\n",
       " 249,\n",
       " 253,\n",
       " 254,\n",
       " 255,\n",
       " 256,\n",
       " 259,\n",
       " 260,\n",
       " 261,\n",
       " 263,\n",
       " 265,\n",
       " 267,\n",
       " 268,\n",
       " 269,\n",
       " 270,\n",
       " 273,\n",
       " 274,\n",
       " 275,\n",
       " 277,\n",
       " 278,\n",
       " 279,\n",
       " 280,\n",
       " 281,\n",
       " 282,\n",
       " 285,\n",
       " 287,\n",
       " 288,\n",
       " 289,\n",
       " 290,\n",
       " 294,\n",
       " 295,\n",
       " 296,\n",
       " 297,\n",
       " 298,\n",
       " 299,\n",
       " 301,\n",
       " 302,\n",
       " 303,\n",
       " 304,\n",
       " 307,\n",
       " 309,\n",
       " 311,\n",
       " 313,\n",
       " 317,\n",
       " 318,\n",
       " 320,\n",
       " 322,\n",
       " 324,\n",
       " 327,\n",
       " 328,\n",
       " 329,\n",
       " 330,\n",
       " 331,\n",
       " 334,\n",
       " 335,\n",
       " 337,\n",
       " 338,\n",
       " 341,\n",
       " 342,\n",
       " 344,\n",
       " 346,\n",
       " 349,\n",
       " 350,\n",
       " 351,\n",
       " 352,\n",
       " 354,\n",
       " 356,\n",
       " 357,\n",
       " 359,\n",
       " 360,\n",
       " 361,\n",
       " 362,\n",
       " 365,\n",
       " 367,\n",
       " 368,\n",
       " 369,\n",
       " 372,\n",
       " 373,\n",
       " 374,\n",
       " 376,\n",
       " 377,\n",
       " 378,\n",
       " 380,\n",
       " 381,\n",
       " 384,\n",
       " 386,\n",
       " 387,\n",
       " 388,\n",
       " 389,\n",
       " 398,\n",
       " 399,\n",
       " 400,\n",
       " 401,\n",
       " 402,\n",
       " 403,\n",
       " 405,\n",
       " 407,\n",
       " 410,\n",
       " 413,\n",
       " 414,\n",
       " 416,\n",
       " 417,\n",
       " 419,\n",
       " 420,\n",
       " 421,\n",
       " 422,\n",
       " 424,\n",
       " 427,\n",
       " 428,\n",
       " 433,\n",
       " 434,\n",
       " 436,\n",
       " 437,\n",
       " 439,\n",
       " 440,\n",
       " 441,\n",
       " 442,\n",
       " 443,\n",
       " 445,\n",
       " 446,\n",
       " 448,\n",
       " 449,\n",
       " 450,\n",
       " 451,\n",
       " 452,\n",
       " 459,\n",
       " 460,\n",
       " 461,\n",
       " 462,\n",
       " 464,\n",
       " 465,\n",
       " 467,\n",
       " 469,\n",
       " 470,\n",
       " 471,\n",
       " 472,\n",
       " 473,\n",
       " 475,\n",
       " 478,\n",
       " 480,\n",
       " 481,\n",
       " 482,\n",
       " 483,\n",
       " 486,\n",
       " 487,\n",
       " 488,\n",
       " 491,\n",
       " 494,\n",
       " 495,\n",
       " 496,\n",
       " 497,\n",
       " 499,\n",
       " 501,\n",
       " 502,\n",
       " 503,\n",
       " 505,\n",
       " 506,\n",
       " 507,\n",
       " 509,\n",
       " 511,\n",
       " 512,\n",
       " 515,\n",
       " 516,\n",
       " 518,\n",
       " 519,\n",
       " 520,\n",
       " 522,\n",
       " 526,\n",
       " 527,\n",
       " 528,\n",
       " 530,\n",
       " 531,\n",
       " 532,\n",
       " 533,\n",
       " 536,\n",
       " 537,\n",
       " 538,\n",
       " 539,\n",
       " 541,\n",
       " 542,\n",
       " 543,\n",
       " 546,\n",
       " 547,\n",
       " 548,\n",
       " 549,\n",
       " 551,\n",
       " 553,\n",
       " 554,\n",
       " 555,\n",
       " 557,\n",
       " 558,\n",
       " 560,\n",
       " 561,\n",
       " 564,\n",
       " 565,\n",
       " 566,\n",
       " 567,\n",
       " 569,\n",
       " 570,\n",
       " 571,\n",
       " 572,\n",
       " 573,\n",
       " 574,\n",
       " 575,\n",
       " 577,\n",
       " 579,\n",
       " 580,\n",
       " 584,\n",
       " 586,\n",
       " 587,\n",
       " 588,\n",
       " 589,\n",
       " 590,\n",
       " 591,\n",
       " 593,\n",
       " 595,\n",
       " 596,\n",
       " 597,\n",
       " 600,\n",
       " 601,\n",
       " 603,\n",
       " 605,\n",
       " 607,\n",
       " 608,\n",
       " 609,\n",
       " 610,\n",
       " 613,\n",
       " 614,\n",
       " 615,\n",
       " 617,\n",
       " 618,\n",
       " 619,\n",
       " 620,\n",
       " 621,\n",
       " 623,\n",
       " 624,\n",
       " 625,\n",
       " 626,\n",
       " 629,\n",
       " 632,\n",
       " 633,\n",
       " 634,\n",
       " 635,\n",
       " 637,\n",
       " 638,\n",
       " 642,\n",
       " 645,\n",
       " 649,\n",
       " 650,\n",
       " 652,\n",
       " 653,\n",
       " 654,\n",
       " 655,\n",
       " 661,\n",
       " 663,\n",
       " 664,\n",
       " 665,\n",
       " 670,\n",
       " 671,\n",
       " 672,\n",
       " 673,\n",
       " 674,\n",
       " 677,\n",
       " 680,\n",
       " 682,\n",
       " 684,\n",
       " 686,\n",
       " 687,\n",
       " 688,\n",
       " 689,\n",
       " 692,\n",
       " 693,\n",
       " 694,\n",
       " 698,\n",
       " 701,\n",
       " 702,\n",
       " 703,\n",
       " 704,\n",
       " 705,\n",
       " 709,\n",
       " 712,\n",
       " 713,\n",
       " 714,\n",
       " 715,\n",
       " 716,\n",
       " 717,\n",
       " 719,\n",
       " 720,\n",
       " 722,\n",
       " 725,\n",
       " 726,\n",
       " 727,\n",
       " 728,\n",
       " 731,\n",
       " 732,\n",
       " 733,\n",
       " 734,\n",
       " 736,\n",
       " 738,\n",
       " 741,\n",
       " 742,\n",
       " 744,\n",
       " 745,\n",
       " 746,\n",
       " 750,\n",
       " 751,\n",
       " 752,\n",
       " 753,\n",
       " 755,\n",
       " 756,\n",
       " 757,\n",
       " 758,\n",
       " 759,\n",
       " 761,\n",
       " 763,\n",
       " 764,\n",
       " 767,\n",
       " 769,\n",
       " 771,\n",
       " 772,\n",
       " 776,\n",
       " 780,\n",
       " 781,\n",
       " 783,\n",
       " 787,\n",
       " 788,\n",
       " 790,\n",
       " 791,\n",
       " 792,\n",
       " 793,\n",
       " 794,\n",
       " 795,\n",
       " 798,\n",
       " 800,\n",
       " 801,\n",
       " 803,\n",
       " 804,\n",
       " 805,\n",
       " 806,\n",
       " 807,\n",
       " 808,\n",
       " 809,\n",
       " 810,\n",
       " 811,\n",
       " 812,\n",
       " 814,\n",
       " 815,\n",
       " 817,\n",
       " 818,\n",
       " 819,\n",
       " 823,\n",
       " 825,\n",
       " 827,\n",
       " 828,\n",
       " 831,\n",
       " 832,\n",
       " 833,\n",
       " 834,\n",
       " 835,\n",
       " 836,\n",
       " 837,\n",
       " 840,\n",
       " 842,\n",
       " 845,\n",
       " 847,\n",
       " 848,\n",
       " 851,\n",
       " 852,\n",
       " 854,\n",
       " 855,\n",
       " 856,\n",
       " 857,\n",
       " 858,\n",
       " 859,\n",
       " 863,\n",
       " 864,\n",
       " 865,\n",
       " 867,\n",
       " 868,\n",
       " 870,\n",
       " 872,\n",
       " 875,\n",
       " 876,\n",
       " 878,\n",
       " 879,\n",
       " 882,\n",
       " 884,\n",
       " 885,\n",
       " 886,\n",
       " 887,\n",
       " 888,\n",
       " 892,\n",
       " 893,\n",
       " 894,\n",
       " 897,\n",
       " 901,\n",
       " 902,\n",
       " 906,\n",
       " 907,\n",
       " 908,\n",
       " 910,\n",
       " 911,\n",
       " 912,\n",
       " 917,\n",
       " 920,\n",
       " 923,\n",
       " 924,\n",
       " 925,\n",
       " 927,\n",
       " 928,\n",
       " 929,\n",
       " 930,\n",
       " 932,\n",
       " 933,\n",
       " 938,\n",
       " 940,\n",
       " 941,\n",
       " 942,\n",
       " 943,\n",
       " 944,\n",
       " 945,\n",
       " 946,\n",
       " 947,\n",
       " 952,\n",
       " 953,\n",
       " 954,\n",
       " 955,\n",
       " 956,\n",
       " 957,\n",
       " 958,\n",
       " 959,\n",
       " 960,\n",
       " 961,\n",
       " 962,\n",
       " 964,\n",
       " 968,\n",
       " 969,\n",
       " 971,\n",
       " 972,\n",
       " 973,\n",
       " 976,\n",
       " 977,\n",
       " 978,\n",
       " 979,\n",
       " 980,\n",
       " 983,\n",
       " 987,\n",
       " 990,\n",
       " 992,\n",
       " 995,\n",
       " 999,\n",
       " 1001,\n",
       " 1004,\n",
       " 1006,\n",
       " 1007,\n",
       " 1008,\n",
       " 1011,\n",
       " 1013,\n",
       " 1014,\n",
       " 1016,\n",
       " 1017,\n",
       " 1019,\n",
       " 1020,\n",
       " 1021,\n",
       " 1025,\n",
       " 1029,\n",
       " 1030,\n",
       " 1032,\n",
       " 1033,\n",
       " 1034,\n",
       " 1036,\n",
       " 1037,\n",
       " 1042,\n",
       " 1043,\n",
       " 1044,\n",
       " 1045,\n",
       " 1046,\n",
       " 1049,\n",
       " 1050,\n",
       " 1051,\n",
       " 1052,\n",
       " 1057,\n",
       " 1059,\n",
       " 1060,\n",
       " 1061,\n",
       " 1062,\n",
       " 1064,\n",
       " 1066,\n",
       " 1071,\n",
       " 1073,\n",
       " 1074,\n",
       " 1075,\n",
       " 1077,\n",
       " 1080,\n",
       " 1081,\n",
       " 1083,\n",
       " 1086,\n",
       " 1088,\n",
       " 1090,\n",
       " 1092,\n",
       " 1094,\n",
       " 1098,\n",
       " 1099,\n",
       " 1100,\n",
       " 1101,\n",
       " 1103,\n",
       " 1105,\n",
       " 1106,\n",
       " 1107,\n",
       " 1113,\n",
       " 1115,\n",
       " 1116,\n",
       " 1118,\n",
       " 1119,\n",
       " 1120,\n",
       " 1121}"
      ]
     },
     "execution_count": 27,
     "metadata": {},
     "output_type": "execute_result"
    }
   ],
   "source": [
    "incorrect_asr_w_correction"
   ]
  },
  {
   "cell_type": "code",
   "execution_count": 128,
   "metadata": {},
   "outputs": [
    {
     "data": {
      "text/plain": [
       "{'action': ['delete', 'insert', 'replace', 'insert', 'replace'],\n",
       " 'model_output': [('', 'měli'),\n",
       "  ('a ', 'a které'),\n",
       "  ('í', 'íránské'),\n",
       "  ('n', 'íránské'),\n",
       "  ('s', 'íránské')],\n",
       " 'reference': [('a ', 'a měli'),\n",
       "  ('', 'které'),\n",
       "  ('i', 'irácké'),\n",
       "  ('', 'irácké'),\n",
       "  ('c', 'irácké')]}"
      ]
     },
     "execution_count": 128,
     "metadata": {},
     "output_type": "execute_result"
    }
   ],
   "source": [
    "idx = 301\n",
    "lev_ops = ST6ErrorAnalysis.levenshtein_ops(model_output=t5_correction_and_results['t5_correction'][idx], reference=dataset[idx][\"target_output\"])\n",
    "lev_ops"
   ]
  },
  {
   "cell_type": "markdown",
   "metadata": {},
   "source": [
    "### Less incorrect ASR (T5 corrected some mistakes)"
   ]
  },
  {
   "cell_type": "code",
   "execution_count": null,
   "metadata": {},
   "outputs": [],
   "source": [
    "less_incorrect_asr_idx = np.argwhere(np.array(t5_correction_and_results[\"w2v2_vs_target_wer\"])[incorrect_asr_w_correction_idx] > np.array(t5_correction_and_results[\"t5_vs_target_wer\"])[incorrect_asr_w_correction_idx]).flatten()\n",
    "less_incorrect_asr = set(np.array(incorrect_asr_w_correction_idx)[less_incorrect_asr_idx])\n",
    "len(less_incorrect_asr)"
   ]
  },
  {
   "cell_type": "code",
   "execution_count": null,
   "metadata": {},
   "outputs": [],
   "source": [
    "less_incorrect_asr"
   ]
  },
  {
   "cell_type": "markdown",
   "metadata": {},
   "source": [
    "### More incorrect ASR (T5 made more mistakes then repaired) "
   ]
  },
  {
   "cell_type": "code",
   "execution_count": null,
   "metadata": {},
   "outputs": [],
   "source": [
    "more_incorrect_asr = incorrect_asr_w_correction.difference(less_incorrect_asr)\n",
    "len(more_incorrect_asr)"
   ]
  },
  {
   "cell_type": "code",
   "execution_count": null,
   "metadata": {},
   "outputs": [],
   "source": [
    "more_incorrect_asr"
   ]
  },
  {
   "cell_type": "markdown",
   "metadata": {},
   "source": [
    "# Measuring semantic closeness between reference sentence and infered ones"
   ]
  },
  {
   "cell_type": "code",
   "execution_count": null,
   "metadata": {},
   "outputs": [],
   "source": [
    "bert_tokenizer = BertTokenizer.from_pretrained(\"fav-kky/FERNET-C5\")\n",
    "bert_model = BertModel.from_pretrained(\"fav-kky/FERNET-C5\").to(device)"
   ]
  },
  {
   "cell_type": "code",
   "execution_count": null,
   "metadata": {},
   "outputs": [],
   "source": [
    "cosine_sim = torch.nn.CosineSimilarity(dim=-1)"
   ]
  },
  {
   "cell_type": "code",
   "execution_count": null,
   "metadata": {},
   "outputs": [],
   "source": [
    "semantic_sim = {\n",
    "    \"sim_w2v2_to_ref\": [],\n",
    "    \"sim_t5_to_ref\": []\n",
    "}\n",
    "for i in tqdm(range(len(dataset))):\n",
    "    ref = dataset[i][\"target_output\"]\n",
    "    \n",
    "    inputs = bert_tokenizer([dataset[i][\"asr_transcription\"], ref], padding=True, return_tensors=\"pt\").to(device)\n",
    "    cls_emb = bert_model(**inputs).last_hidden_state[:, 0, :]\n",
    "    semantic_sim[\"sim_w2v2_to_ref\"].append(cosine_sim.forward(cls_emb[0], cls_emb[1]).item())\n",
    "\n",
    "    inputs = bert_tokenizer([t5_correction_and_results[\"t5_correction\"][i], ref], padding=True, return_tensors=\"pt\").to(device)\n",
    "    cls_emb = bert_model(**inputs).last_hidden_state[:, 0, :]\n",
    "    semantic_sim[\"sim_t5_to_ref\"].append(cosine_sim.forward(cls_emb[0], cls_emb[1]).item())"
   ]
  },
  {
   "cell_type": "code",
   "execution_count": null,
   "metadata": {},
   "outputs": [],
   "source": [
    "# with open(\"./data/embeddings_cos_sim_w2v2v23_t5v20.json\", \"w\") as f:\n",
    "#     json.dump(semantic_sim, f)"
   ]
  },
  {
   "cell_type": "code",
   "execution_count": null,
   "metadata": {},
   "outputs": [],
   "source": [
    "with open(\"./data/embeddings_cos_sim_w2v2v23_t5v20.json\", \"r\") as f:\n",
    "    semantic_sim = json.load(f)"
   ]
  },
  {
   "cell_type": "code",
   "execution_count": null,
   "metadata": {},
   "outputs": [],
   "source": [
    "ttest = scipy.stats.ttest_ind(semantic_sim[\"sim_w2v2_to_ref\"], semantic_sim[\"sim_t5_to_ref\"])"
   ]
  },
  {
   "cell_type": "code",
   "execution_count": null,
   "metadata": {},
   "outputs": [],
   "source": [
    "ttest"
   ]
  },
  {
   "cell_type": "code",
   "execution_count": null,
   "metadata": {},
   "outputs": [],
   "source": [
    "np.mean(semantic_sim[\"sim_w2v2_to_ref\"])"
   ]
  },
  {
   "cell_type": "code",
   "execution_count": null,
   "metadata": {},
   "outputs": [],
   "source": [
    "np.mean(semantic_sim[\"sim_t5_to_ref\"])"
   ]
  },
  {
   "cell_type": "code",
   "execution_count": null,
   "metadata": {},
   "outputs": [],
   "source": [
    "np.min(semantic_sim[\"sim_w2v2_to_ref\"])"
   ]
  },
  {
   "cell_type": "code",
   "execution_count": null,
   "metadata": {},
   "outputs": [],
   "source": [
    "np.argmin(semantic_sim[\"sim_w2v2_to_ref\"])"
   ]
  },
  {
   "cell_type": "code",
   "execution_count": null,
   "metadata": {},
   "outputs": [],
   "source": [
    "np.std(semantic_sim[\"sim_w2v2_to_ref\"])"
   ]
  },
  {
   "cell_type": "code",
   "execution_count": null,
   "metadata": {},
   "outputs": [],
   "source": [
    "np.min(semantic_sim[\"sim_t5_to_ref\"])"
   ]
  },
  {
   "cell_type": "code",
   "execution_count": null,
   "metadata": {},
   "outputs": [],
   "source": [
    "np.std(semantic_sim[\"sim_t5_to_ref\"])"
   ]
  },
  {
   "cell_type": "code",
   "execution_count": null,
   "metadata": {},
   "outputs": [],
   "source": [
    "dataset[441][\"asr_transcription\"]"
   ]
  },
  {
   "cell_type": "code",
   "execution_count": null,
   "metadata": {},
   "outputs": [],
   "source": [
    "t5_correction_and_results[\"t5_correction\"][441]"
   ]
  },
  {
   "cell_type": "code",
   "execution_count": null,
   "metadata": {},
   "outputs": [],
   "source": [
    "dataset[441][\"target_output\"]"
   ]
  },
  {
   "cell_type": "code",
   "execution_count": null,
   "metadata": {},
   "outputs": [],
   "source": [
    "idx = 750\n",
    "w2v2_output=dataset[idx][\"asr_transcription\"]\n",
    "t5_output=t5_correction_and_results[\"t5_correction\"][idx]\n",
    "ref = dataset[idx][\"target_output\"]"
   ]
  },
  {
   "cell_type": "code",
   "execution_count": null,
   "metadata": {},
   "outputs": [],
   "source": [
    "w2v2_output"
   ]
  },
  {
   "cell_type": "code",
   "execution_count": null,
   "metadata": {},
   "outputs": [],
   "source": [
    "t5_output"
   ]
  },
  {
   "cell_type": "code",
   "execution_count": null,
   "metadata": {},
   "outputs": [],
   "source": [
    "ref"
   ]
  },
  {
   "cell_type": "code",
   "execution_count": null,
   "metadata": {},
   "outputs": [],
   "source": [
    "inputs = bert_tokenizer([t5_output, ref], padding=True, return_tensors=\"pt\").to(device)"
   ]
  },
  {
   "cell_type": "code",
   "execution_count": null,
   "metadata": {},
   "outputs": [],
   "source": [
    "embeddings = bert_model(**inputs)\n",
    "cls_emb = embeddings.last_hidden_state[:, 0, :]"
   ]
  },
  {
   "cell_type": "code",
   "execution_count": null,
   "metadata": {},
   "outputs": [],
   "source": [
    "cls_emb"
   ]
  },
  {
   "cell_type": "code",
   "execution_count": null,
   "metadata": {},
   "outputs": [],
   "source": [
    "cls_emb"
   ]
  },
  {
   "cell_type": "code",
   "execution_count": null,
   "metadata": {},
   "outputs": [],
   "source": [
    "cosine_sim.forward(cls_emb[0], cls_emb[1])"
   ]
  },
  {
   "cell_type": "markdown",
   "metadata": {},
   "source": [
    "# Morphodita"
   ]
  },
  {
   "cell_type": "code",
   "execution_count": 8,
   "metadata": {},
   "outputs": [],
   "source": [
    "from ufal.morphodita import Morpho, Tagger, TaggedLemmas, TokenRanges, Forms, Analyses"
   ]
  },
  {
   "cell_type": "code",
   "execution_count": 9,
   "metadata": {},
   "outputs": [],
   "source": [
    "def encode_entities(text: str):\n",
    "    return text.replace('&', '&amp;').replace('<', '&lt;').replace('>', '&gt;').replace('\"', '&quot;')"
   ]
  },
  {
   "cell_type": "code",
   "execution_count": 10,
   "metadata": {},
   "outputs": [],
   "source": [
    "# morpho = Morpho.load(\"data/czech-morfflex2.0-pdtc1.0-220710/czech-morfflex2.0-220710.dict\")\n",
    "tagger = Tagger.load(\"data/czech-morfflex2.0-pdtc1.0-220710/czech-morfflex2.0-pdtc1.0-220710.tagger\")"
   ]
  },
  {
   "cell_type": "code",
   "execution_count": 11,
   "metadata": {},
   "outputs": [],
   "source": [
    "forms = Forms()\n",
    "lemmas = TaggedLemmas()\n",
    "tokens = TokenRanges()\n",
    "# analyses = Analyses()\n",
    "tokenizer = tagger.newTokenizer()\n",
    "# tagger.tagAnalyzed()"
   ]
  },
  {
   "cell_type": "code",
   "execution_count": 13,
   "metadata": {},
   "outputs": [
    {
     "name": "stdout",
     "output_type": "stream",
     "text": [
      "<sentence>\n",
      "\t<token lemma=\"rok\" tag=\"NNIXX-----A---b\">r</token>\n",
      "</sentence>\n"
     ]
    }
   ],
   "source": [
    "line = \"r\"\n",
    "tokenizer.setText(line)\n",
    "\n",
    "t = 0\n",
    "while tokenizer.nextSentence(forms, tokens):\n",
    "    tagger.tag(forms, lemmas)\n",
    "    for i in range(len(lemmas)):\n",
    "        lemma = lemmas[i]\n",
    "        token = tokens[i]\n",
    "        # tagger.tagAnalyzed(token, lemma.lemma, lemma.tag)\n",
    "        print('%s\\t<token lemma=\"%s\" tag=\"%s\">%s</token>%s' % (\n",
    "        # encode_entities(line[t : token.start]),\n",
    "        \"<sentence>\\n\" if i == 0 else \"\",\n",
    "        encode_entities(lemma.lemma),\n",
    "        encode_entities(lemma.tag),\n",
    "        encode_entities(line[token.start : token.start + token.length]),\n",
    "        \"\\n</sentence>\" if i + 1 == len(lemmas) else \"\",\n",
    "        ), sep=\"\\n\")\n",
    "        t = token.start + token.length"
   ]
  },
  {
   "cell_type": "code",
   "execution_count": null,
   "metadata": {},
   "outputs": [],
   "source": []
  }
 ],
 "metadata": {
  "kernelspec": {
   "display_name": "asr_env",
   "language": "python",
   "name": "python3"
  },
  "language_info": {
   "codemirror_mode": {
    "name": "ipython",
    "version": 3
   },
   "file_extension": ".py",
   "mimetype": "text/x-python",
   "name": "python",
   "nbconvert_exporter": "python",
   "pygments_lexer": "ipython3",
   "version": "3.11.4"
  }
 },
 "nbformat": 4,
 "nbformat_minor": 2
}
