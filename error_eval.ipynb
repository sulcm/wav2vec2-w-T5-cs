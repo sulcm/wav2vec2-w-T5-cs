{
 "cells": [
  {
   "cell_type": "code",
   "execution_count": null,
   "metadata": {},
   "outputs": [],
   "source": [
    "from transformers import T5ForConditionalGeneration, T5Tokenizer\n",
    "from datasets import Dataset, load_from_disk\n",
    "import evaluate\n",
    "import torch\n",
    "\n",
    "import numpy as np\n",
    "import pandas as pd\n",
    "\n",
    "import matplotlib.pyplot as plt\n",
    "import json\n",
    "from tqdm import tqdm"
   ]
  },
  {
   "cell_type": "code",
   "execution_count": null,
   "metadata": {},
   "outputs": [],
   "source": [
    "dataset = load_from_disk(\"/home/sulcm/datasets/t5/asr-correction-cs-v23/test\")"
   ]
  },
  {
   "cell_type": "markdown",
   "metadata": {},
   "source": [
    "# Create and compute eval data"
   ]
  },
  {
   "cell_type": "code",
   "execution_count": null,
   "metadata": {},
   "outputs": [],
   "source": [
    "T5_MODEL_NAME = \"/home/sulcm/models/t5/t5-spellchecker-cs-v2\""
   ]
  },
  {
   "cell_type": "code",
   "execution_count": null,
   "metadata": {},
   "outputs": [],
   "source": [
    "wer_metric = evaluate.load(\"wer\")"
   ]
  },
  {
   "cell_type": "code",
   "execution_count": null,
   "metadata": {},
   "outputs": [],
   "source": [
    "dataset"
   ]
  },
  {
   "cell_type": "code",
   "execution_count": null,
   "metadata": {},
   "outputs": [],
   "source": [
    "device = \"cuda\" if torch.cuda.is_available() else \"cpu\"\n",
    "prefix = \"spell check: \"\n",
    "t5_tokenizer = T5Tokenizer.from_pretrained(T5_MODEL_NAME)\n",
    "t5_model = T5ForConditionalGeneration.from_pretrained(T5_MODEL_NAME).to(device)"
   ]
  },
  {
   "cell_type": "code",
   "execution_count": null,
   "metadata": {},
   "outputs": [],
   "source": [
    "t5_correction_and_results = {\n",
    "    \"t5_correction\": [],\n",
    "    \"w2v2_vs_target_wer\": [],\n",
    "    \"t5_vs_target_wer\": [],\n",
    "    \"w2v2_vs_t5_wer\": []\n",
    "}\n",
    "\n",
    "for ds_row in tqdm(dataset):\n",
    "    # asr_transcription, target_output\n",
    "    inputs = t5_tokenizer(prefix + ds_row[\"asr_transcription\"], return_tensors=\"pt\").to(device)\n",
    "    output_sequences = t5_model.generate(**inputs, max_new_tokens=64, num_beams=4, do_sample=True)\n",
    "    corrected_input = t5_tokenizer.batch_decode(output_sequences, skip_special_tokens=True)\n",
    "\n",
    "    t5_correction_and_results[\"w2v2_vs_target_wer\"].append(wer_metric.compute(predictions=(ds_row[\"asr_transcription\"],), references=(ds_row[\"target_output\"],)))\n",
    "    t5_correction_and_results[\"t5_vs_target_wer\"].append(wer_metric.compute(predictions=corrected_input, references=(ds_row[\"target_output\"],)))\n",
    "    t5_correction_and_results[\"w2v2_vs_t5_wer\"].append(wer_metric.compute(predictions=(ds_row[\"asr_transcription\"],), references=corrected_input))\n",
    "    t5_correction_and_results[\"t5_correction\"].extend(corrected_input)"
   ]
  },
  {
   "cell_type": "code",
   "execution_count": null,
   "metadata": {},
   "outputs": [],
   "source": [
    "with open(\"./data/error_eval_ds_v23_test_w_t5_v2.json\", \"w\") as f:\n",
    "    json.dump(t5_correction_and_results, f)"
   ]
  },
  {
   "cell_type": "markdown",
   "metadata": {},
   "source": [
    "# Evaluation of results\n",
    "---\n",
    "![\"error_classification\"](./error_classification.svg)"
   ]
  },
  {
   "cell_type": "code",
   "execution_count": null,
   "metadata": {},
   "outputs": [],
   "source": [
    "with open(\"./data/error_eval_ds_v23_test_w_t5_v4.json\", \"r\") as f:\n",
    "    t5_correction_and_results = json.load(f)"
   ]
  },
  {
   "cell_type": "code",
   "execution_count": null,
   "metadata": {},
   "outputs": [],
   "source": [
    "def compare_outputs(idx: int) -> None:\n",
    "    print(\n",
    "        f\"Wav2Vec2.0 Transcription (WER = {t5_correction_and_results['w2v2_vs_target_wer'][idx]:.4f}):    \" + dataset[idx]['asr_transcription'],\n",
    "        f\"T5 Correction (WER = {t5_correction_and_results['t5_vs_target_wer'][idx]:.4f}):               \" + t5_correction_and_results['t5_correction'][idx],\n",
    "        \"Target output:                              \" + dataset[idx]['target_output'],\n",
    "        sep=\"\\n\"\n",
    "    )"
   ]
  },
  {
   "cell_type": "markdown",
   "metadata": {},
   "source": [
    "## T5 mistakes on ***correct*** W2V2 transcription"
   ]
  },
  {
   "cell_type": "code",
   "execution_count": null,
   "metadata": {},
   "outputs": [],
   "source": [
    "correct_w2v2_transcription = np.argwhere(np.transpose(t5_correction_and_results[\"w2v2_vs_target_wer\"]) == 0.0).flatten()\n",
    "incorrect_t5_correction = np.argwhere(np.transpose(t5_correction_and_results[\"t5_vs_target_wer\"]) > 0.0).flatten()\n",
    "correct_asr_transcription_incorect_t5_correction = set(correct_w2v2_transcription).intersection(set(incorrect_t5_correction))\n",
    "len(correct_asr_transcription_incorect_t5_correction)"
   ]
  },
  {
   "cell_type": "code",
   "execution_count": null,
   "metadata": {},
   "outputs": [],
   "source": [
    "correct_asr_transcription_incorect_t5_correction"
   ]
  },
  {
   "cell_type": "markdown",
   "metadata": {},
   "source": [
    "## T5 good corrections on ***bad*** W2V2 transcription"
   ]
  },
  {
   "cell_type": "code",
   "execution_count": null,
   "metadata": {},
   "outputs": [],
   "source": [
    "incorrect_w2v2_transcription = np.argwhere(np.transpose(t5_correction_and_results[\"w2v2_vs_target_wer\"]) > 0.0).flatten()\n",
    "correct_t5_correction = np.argwhere(np.transpose(t5_correction_and_results[\"t5_vs_target_wer\"]) == 0.0).flatten()\n",
    "correct_t5_correction_on_bad_asr_transcription = set(correct_t5_correction).intersection(set(incorrect_w2v2_transcription))\n",
    "len(correct_t5_correction_on_bad_asr_transcription)"
   ]
  },
  {
   "cell_type": "code",
   "execution_count": null,
   "metadata": {},
   "outputs": [],
   "source": [
    "correct_t5_correction_on_bad_asr_transcription"
   ]
  },
  {
   "cell_type": "markdown",
   "metadata": {},
   "source": [
    "## Correct ASR and correction"
   ]
  },
  {
   "cell_type": "code",
   "execution_count": null,
   "metadata": {},
   "outputs": [],
   "source": [
    "correct_asr_w_correction = set(correct_w2v2_transcription).intersection(set(correct_t5_correction))\n",
    "len(correct_asr_w_correction)"
   ]
  },
  {
   "cell_type": "code",
   "execution_count": null,
   "metadata": {},
   "outputs": [],
   "source": [
    "correct_asr_w_correction"
   ]
  },
  {
   "cell_type": "markdown",
   "metadata": {},
   "source": [
    "## Incorrect ASR and incorrect correction"
   ]
  },
  {
   "cell_type": "code",
   "execution_count": null,
   "metadata": {},
   "outputs": [],
   "source": [
    "incorrect_asr_w_correction = set(incorrect_w2v2_transcription).intersection(set(incorrect_t5_correction))\n",
    "incorrect_asr_w_correction_idx = list(incorrect_asr_w_correction)\n",
    "len(incorrect_asr_w_correction)"
   ]
  },
  {
   "cell_type": "code",
   "execution_count": null,
   "metadata": {},
   "outputs": [],
   "source": [
    "incorrect_asr_w_correction"
   ]
  },
  {
   "cell_type": "markdown",
   "metadata": {},
   "source": [
    "### Less incorrect ASR (T5 corrected some mistakes)"
   ]
  },
  {
   "cell_type": "code",
   "execution_count": null,
   "metadata": {},
   "outputs": [],
   "source": [
    "less_incorrect_asr_idx = np.argwhere(np.array(t5_correction_and_results[\"w2v2_vs_target_wer\"])[incorrect_asr_w_correction_idx] > np.array(t5_correction_and_results[\"t5_vs_target_wer\"])[incorrect_asr_w_correction_idx]).flatten()\n",
    "less_incorrect_asr = set(np.array(incorrect_asr_w_correction_idx)[less_incorrect_asr_idx])\n",
    "len(less_incorrect_asr)"
   ]
  },
  {
   "cell_type": "code",
   "execution_count": null,
   "metadata": {},
   "outputs": [],
   "source": [
    "less_incorrect_asr"
   ]
  },
  {
   "cell_type": "markdown",
   "metadata": {},
   "source": [
    "### More incorrect ASR (T5 made more mistakes then repaired) "
   ]
  },
  {
   "cell_type": "code",
   "execution_count": null,
   "metadata": {},
   "outputs": [],
   "source": [
    "more_incorrect_asr = incorrect_asr_w_correction.difference(less_incorrect_asr)\n",
    "len(more_incorrect_asr)"
   ]
  },
  {
   "cell_type": "code",
   "execution_count": null,
   "metadata": {},
   "outputs": [],
   "source": [
    "more_incorrect_asr"
   ]
  },
  {
   "cell_type": "code",
   "execution_count": null,
   "metadata": {},
   "outputs": [],
   "source": []
  }
 ],
 "metadata": {
  "kernelspec": {
   "display_name": "asr_env",
   "language": "python",
   "name": "python3"
  },
  "language_info": {
   "codemirror_mode": {
    "name": "ipython",
    "version": 3
   },
   "file_extension": ".py",
   "mimetype": "text/x-python",
   "name": "python",
   "nbconvert_exporter": "python",
   "pygments_lexer": "ipython3",
   "version": "3.11.4"
  }
 },
 "nbformat": 4,
 "nbformat_minor": 2
}
