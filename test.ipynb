{
 "cells": [
  {
   "cell_type": "code",
   "execution_count": null,
   "metadata": {},
   "outputs": [],
   "source": [
    "import pandas as pd\n",
    "import numpy as np\n",
    "\n",
    "from transformers import Wav2Vec2ForCTC, Wav2Vec2Tokenizer, T5Tokenizer, T5ForConditionalGeneration\n",
    "from datasets import Dataset, load_dataset, Audio\n",
    "\n",
    "import torch"
   ]
  },
  {
   "cell_type": "code",
   "execution_count": null,
   "metadata": {},
   "outputs": [],
   "source": [
    "torch.cuda.is_available()"
   ]
  },
  {
   "cell_type": "code",
   "execution_count": null,
   "metadata": {},
   "outputs": [],
   "source": [
    "DATASET = {\n",
    "    \"path\": \"PolyAI/minds14\",\n",
    "    \"name\": \"cs-CZ\",\n",
    "    \"split\": \"train\"\n",
    "}\n",
    "\n",
    "SAMPLING_RATE = 16_000\n",
    "\n",
    "WAV2VEC_MODEL_NAME = \"fav-kky/wav2vec2-base-cs-80k-ClTRUS\"\n",
    "\n",
    "T5_MODEL_NAME = \"t5-base\""
   ]
  },
  {
   "cell_type": "code",
   "execution_count": null,
   "metadata": {},
   "outputs": [],
   "source": [
    "dataset = load_dataset(DATASET['path'], DATASET['name'], split=DATASET['split'])\n",
    "if dataset and dataset[0]['audio']['sampling_rate'] != SAMPLING_RATE:\n",
    "    dataset = dataset.cast_column(\"audio\", Audio(sampling_rate=SAMPLING_RATE))"
   ]
  }
 ],
 "metadata": {
  "kernelspec": {
   "display_name": "asr_env",
   "language": "python",
   "name": "python3"
  },
  "language_info": {
   "codemirror_mode": {
    "name": "ipython",
    "version": 3
   },
   "file_extension": ".py",
   "mimetype": "text/x-python",
   "name": "python",
   "nbconvert_exporter": "python",
   "pygments_lexer": "ipython3",
   "version": "3.10.12"
  },
  "orig_nbformat": 4
 },
 "nbformat": 4,
 "nbformat_minor": 2
}
